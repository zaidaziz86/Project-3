{
 "cells": [
  {
   "cell_type": "markdown",
   "id": "cd3f7d13-283d-4d37-9690-ca702dc43ddd",
   "metadata": {},
   "source": [
    "# Project 3: Project 3: Web APIs & NLP"
   ]
  },
  {
   "cell_type": "markdown",
   "id": "ea600e04-6501-4a00-9a57-fba2db7f02ef",
   "metadata": {},
   "source": [
    "### Problem Statement\n",
    "---"
   ]
  },
  {
   "cell_type": "markdown",
   "id": "f5977bc0-71fc-41e1-83d8-f3059fc32028",
   "metadata": {},
   "source": [
    "I am a data scientist working at an online dating platform. We asked Reddit for all the posts for the subreddits “Dating over 30”, and “Dating over 40” to identify key words associated with each demographic.\n",
    "\n",
    "Reddit gave us the posts, but says we have to pay extra to know which posts belong to which subreddit. I am going to save my company money and classify in house."
   ]
  },
  {
   "cell_type": "markdown",
   "id": "b0d9e9f5-fcee-42b0-b940-44e911776a62",
   "metadata": {},
   "source": [
    "### Data Dictionary\n",
    "---"
   ]
  },
  {
   "cell_type": "markdown",
   "id": "608a58fd-cfec-47cf-8096-a8afcae9dcd0",
   "metadata": {},
   "source": [
    "|Feature|Type|Dataset|Description|\n",
    "|---|---|---|---|\n",
    "|**subreddit**|*object*|Reddit Pushshift API| Name of subreddit.| \n",
    "|**title**|*object*|Reddit Pushshift API| Title of Reddit post.|\n",
    "|**selftext**|*object*|Reddit Pushshift API| This is the text in the body of the post.|\n",
    "|**author**|*object*|Reddit Pushshift API| This is the author of the post.|\n",
    "|**num_comments**|*int64*|Reddit Pushshift API| This is the number of comments to the post.|\n",
    "|**num_crossplots**|*int64*|Reddit Pushshift API| This is the number of crossplots (shares) of the post.|\n",
    "|**total_awards_recieved**|*int64*|Reddit Pushshift API| This is the number of awards the reddit post recieved.|\n",
    "|**upvote_raito**|*float64*|Reddit Pushshift API| This is the raito of upvotes to downvotes of a particlar post.|\n",
    "|**removed_by_catagory**|*object*|Reddit Pushshift API| This is an indication of who removed the post from the subreddit usualy a moderator.|\n",
    "|**created_utc**|*int64*|Reddit Pushshift API| This is the time in UTC that the post was published.|\n",
    "|**url**|*object*|Reddit Pushshift API| This is the direct url of the reddit post.|\n",
    "|**title_word_count**|*object*|Reddit Pushshift API| Word count of the reddit post title.|\n",
    "|**selftext_word_count**|*object*|Reddit Pushshift API| Word count of the reddit post selftext.|\n",
    "|**total_words_count**|*object*|Reddit Pushshift API| Total word count of the subreddits post.|"
   ]
  },
  {
   "cell_type": "markdown",
   "id": "db9c94f0-03f8-4897-b9b3-379e7298b7cf",
   "metadata": {
    "tags": []
   },
   "source": [
    "### Exploratory Data Analysis & Cleaning\n",
    "---"
   ]
  },
  {
   "cell_type": "markdown",
   "id": "4aa11e95-e6bd-4555-ba44-d7753a21f214",
   "metadata": {},
   "source": [
    "### Importing libaries"
   ]
  },
  {
   "cell_type": "code",
   "execution_count": 1,
   "id": "4bbdc775-25b2-4480-9339-98a9cbcc8dbc",
   "metadata": {},
   "outputs": [],
   "source": [
    "import pandas as pd \n",
    "import numpy as np \n",
    "import seaborn as sns\n",
    "import matplotlib.pyplot as plt\n",
    "\n",
    "from sklearn.model_selection import train_test_split, cross_val_score\n",
    "from sklearn.naive_bayes import MultinomialNB\n",
    "\n",
    "from sklearn.feature_extraction.text import CountVectorizer, TfidfTransformer, TfidfVectorizer\n",
    "from sklearn.ensemble import ExtraTreesClassifier, RandomForestClassifier\n",
    "from sklearn.svm import SVC\n",
    "from sklearn.model_selection import GridSearchCV\n",
    "from sklearn.pipeline import Pipeline\n",
    "from sklearn.metrics import confusion_matrix, plot_confusion_matrix"
   ]
  },
  {
   "cell_type": "code",
   "execution_count": 2,
   "id": "02983b4b-ad6d-4076-88e3-1e5caa4e6b69",
   "metadata": {},
   "outputs": [],
   "source": [
    "def vectorize_column(X):\n",
    "    \"\"\"\n",
    "    This Function vectorizes our title or subtext columns so we can      compaire\n",
    "    frequency and overlap betewen the two subreddits.\n",
    "    \"\"\"\n",
    "    cv = CountVectorizer(stop_words='english')\n",
    "                                     \n",
    "                \n",
    "    cv.fit(X)\n",
    "    X_transformed = cv.transform(X)\n",
    "    X_transformed_df = pd.DataFrame(X_transformed.todense(),\n",
    "                                    columns=cv.get_feature_names())\n",
    "    return X_transformed_df\n",
    "\n",
    "def dummify_concat_dataframe(size ,df_1, df_2):\n",
    "    \"\"\"\n",
    "    This function takes in our two dataframes dummifys the subreddit column\n",
    "    and then concats the two dataframes of equal size to we can better evaluate\n",
    "    our model.\n",
    "    \"\"\"\n",
    "    df_2 = df_2[['subreddit', 'title', 'selftext', 'total_words']].head(size)\n",
    "    df_1 = df_1[['subreddit', 'title', 'selftext', 'total_words']].head(size)\n",
    "    full_frame = pd.concat([df_1, df_2])\n",
    "    \n",
    "    #We will dummify the full dataframe 1, if over 30, '0' if over 40\n",
    "    full_frame['subreddit'] = full_frame['subreddit'].map(lambda x: 1 if x == 'datingoverthirty' else 0)\n",
    "    \n",
    "    #add a new index to the DF\n",
    "    full_frame.index = [i for i in range(full_frame.shape[0])]\n",
    "    print(f'length of each DataFrame: {size}')\n",
    "    print(f'length complete DataFrame: {full_frame.shape[0]}')\n",
    "    print(\"'1', represents datingover30, '0', represents datingover40\")\n",
    "    return full_frame"
   ]
  },
  {
   "cell_type": "markdown",
   "id": "fca52b41-21a0-4241-8473-4495ae8c2f2f",
   "metadata": {},
   "source": [
    "### Loading the Data\n"
   ]
  },
  {
   "cell_type": "code",
   "execution_count": 3,
   "id": "168faa00-cdfd-4a42-9852-b027962d6544",
   "metadata": {},
   "outputs": [],
   "source": [
    "# Loading in the dataing over 30 csv file as df_30.\n",
    "df_30 = pd.read_csv('./Raw Reddit Data/raw_date_over_30.csv')\n",
    "\n",
    "# Loading in the dataing over 40 csv file as df_40.\n",
    "df_40 = pd.read_csv('./Raw Reddit Data/raw_date_over_40.csv')"
   ]
  },
  {
   "cell_type": "markdown",
   "id": "07e8ece3-148a-49e1-8b67-0cc25f422e62",
   "metadata": {},
   "source": [
    "### Cleaning the data"
   ]
  },
  {
   "cell_type": "markdown",
   "id": "88a6ec32-4f87-43c0-9ea7-24d8daf1c781",
   "metadata": {},
   "source": [
    "Loading in the dataframes the first thing we see is that we have this \"[removed]\" catagory in selftext column. After doing some research I found that there are quite a few of these \"[removed]\" labels in dating over 30 dataset and not as many in the dating over 40 dataset. Let us look into this and decide of how to handle this missing data."
   ]
  },
  {
   "cell_type": "code",
   "execution_count": 4,
   "id": "56ab25b5-afef-49bb-9072-7322404e7765",
   "metadata": {},
   "outputs": [
    {
     "data": {
      "text/plain": [
       "automod_filtered    17188\n",
       "reddit               2784\n",
       "moderator            1339\n",
       "deleted               689\n",
       "Name: removed_by_category, dtype: int64"
      ]
     },
     "execution_count": 4,
     "metadata": {},
     "output_type": "execute_result"
    }
   ],
   "source": [
    "# Looking at the unique catagories of who removed the 'selftext'\n",
    "# we can see that there is are 4 reasons why the self text was removed.\n",
    "df_30['removed_by_category'].value_counts()"
   ]
  },
  {
   "cell_type": "code",
   "execution_count": 5,
   "id": "01a3c6b0-f326-4538-8c6b-d82b9be51442",
   "metadata": {},
   "outputs": [
    {
     "data": {
      "text/plain": [
       "moderator    907\n",
       "reddit       683\n",
       "deleted      118\n",
       "Name: removed_by_category, dtype: int64"
      ]
     },
     "execution_count": 5,
     "metadata": {},
     "output_type": "execute_result"
    }
   ],
   "source": [
    "# Here again see who removed the 'selftext' in the dataing over 40\n",
    "# dataset.\n",
    "df_40['removed_by_category'].value_counts()"
   ]
  },
  {
   "cell_type": "markdown",
   "id": "f71e469d-b02a-4443-b542-87c74f49d194",
   "metadata": {},
   "source": [
    "From here we looked at some samples on reddit of why the self texts were removed. We know that Reddit's core business value is transparancy and free speeh. Even though the selftexts are removed Reddit wants people to see why these posts where removed. I found through looking at several examples of removed selftext that these texts are removed becasue they do not abide by the rules of the subreddit shon below."
   ]
  },
  {
   "attachments": {
    "f6661d9b-70ae-450d-8b76-b2ffedcf9a53.png": {
     "image/png": "[encoded data removed]"
    }
   },
   "cell_type": "markdown",
   "id": "1c87f3ae-0ab9-4021-b667-f6542f9784a4",
   "metadata": {},
   "source": [
    "![Sub reddit rules.png](attachment:f6661d9b-70ae-450d-8b76-b2ffedcf9a53.png)"
   ]
  },
  {
   "cell_type": "markdown",
   "id": "63af3602-b7f6-4ea2-b9f9-15d0391a55da",
   "metadata": {},
   "source": [
    "At this point were going to drop all rows where the selftext was removed due to not abiding by the rules of the subreddit. Our reasoning here, is that there are so many reasons why this data would be removed. The main reason is because the post does not bring value to the subreddit, this the same value that we want to extract from this data."
   ]
  },
  {
   "cell_type": "code",
   "execution_count": 6,
   "id": "17f8b890-64a2-4c3c-a569-ee058dc9aa63",
   "metadata": {},
   "outputs": [
    {
     "data": {
      "text/plain": [
       "(8099, 11)"
      ]
     },
     "execution_count": 6,
     "metadata": {},
     "output_type": "execute_result"
    }
   ],
   "source": [
    "# Dropping the various removed rows by who removed the selftext\n",
    "df_30.drop(df_30[(df_30['removed_by_category'] == 'automod_filtered') |\n",
    "                 (df_30['removed_by_category'] == 'reddit') |\n",
    "                 (df_30['removed_by_category'] == 'moderator') |\n",
    "                 (df_30['removed_by_category'] == 'deleted')].index, inplace=True)\n",
    "df_30.shape"
   ]
  },
  {
   "cell_type": "code",
   "execution_count": 7,
   "id": "5e1c1cbb-70f1-475e-81d0-c26701eebc8f",
   "metadata": {
    "tags": []
   },
   "outputs": [
    {
     "data": {
      "text/plain": [
       "(6292, 11)"
      ]
     },
     "execution_count": 7,
     "metadata": {},
     "output_type": "execute_result"
    }
   ],
   "source": [
    "# Dropping the various removed rows by who removed the selftext\n",
    "df_40.drop(df_40[(df_40['removed_by_category'] == 'reddit') |\n",
    "                 (df_40['removed_by_category'] == 'moderator') | \n",
    "                 (df_40['removed_by_category'] == 'deleted')].index, inplace=True)\n",
    "df_40.shape"
   ]
  },
  {
   "cell_type": "markdown",
   "id": "8d4e8552-e833-43ab-919f-2ff8f5c11e66",
   "metadata": {},
   "source": [
    "Lets continue our analysis and check for duplicates in the reddit posts."
   ]
  },
  {
   "cell_type": "code",
   "execution_count": 8,
   "id": "365b3eab-bccd-4893-8647-c44d3df5fff7",
   "metadata": {},
   "outputs": [
    {
     "name": "stdout",
     "output_type": "stream",
     "text": [
      "Size of dating over 30 dataframe after dropping duplicates 7869\n",
      "Size of dating over 40 dataframe after dropping duplicates 6195\n"
     ]
    }
   ],
   "source": [
    "# Dropping duplicate posts\n",
    "df_30.drop_duplicates(subset=['title'], inplace=True, keep='first')\n",
    "print('Size of dating over 30 dataframe after dropping duplicates', df_30.shape[0])\n",
    "\n",
    "# Dropping duplicate posts\n",
    "df_40.drop_duplicates(subset=['title'], inplace=True, keep ='first')\n",
    "print('Size of dating over 40 dataframe after dropping duplicates', df_40.shape[0])"
   ]
  },
  {
   "cell_type": "markdown",
   "id": "92877c8c-b5b5-4671-b3d3-c9703bc3577d",
   "metadata": {},
   "source": [
    "We found some duplicates in each dataframe, we will now finally look for null values in the reddit titles and self text and see if we find any."
   ]
  },
  {
   "cell_type": "code",
   "execution_count": 9,
   "id": "6c6de84d-4373-4cea-8ddd-a43d994d8d90",
   "metadata": {},
   "outputs": [
    {
     "data": {
      "text/plain": [
       "title         0\n",
       "selftext    893\n",
       "dtype: int64"
      ]
     },
     "execution_count": 9,
     "metadata": {},
     "output_type": "execute_result"
    }
   ],
   "source": [
    "#Null Values in the 'title' and 'selftext' regions of the posts in dating over 40\n",
    "df_40[['title', 'selftext']].isnull().sum()"
   ]
  },
  {
   "cell_type": "code",
   "execution_count": 10,
   "id": "aae291a1-c87f-485b-bec6-42594343097a",
   "metadata": {},
   "outputs": [
    {
     "data": {
      "text/plain": [
       "title         0\n",
       "selftext    174\n",
       "dtype: int64"
      ]
     },
     "execution_count": 10,
     "metadata": {},
     "output_type": "execute_result"
    }
   ],
   "source": [
    "#Null Values in the 'title' and 'selftext' regions of the posts in dating over 30\n",
    "df_30[['title', 'selftext']].isnull().sum()"
   ]
  },
  {
   "cell_type": "markdown",
   "id": "2e96747b-21f5-424a-9db0-0b9e37074a11",
   "metadata": {},
   "source": [
    "Let's deal with the missing data in the selftext columns in both datasets. I don't want to drop 893 rows of my dating over 40 datasets since that is ~12% of the data in that dataset. We will fill the missing data with an empty string."
   ]
  },
  {
   "cell_type": "code",
   "execution_count": 11,
   "id": "81f5e2de-1194-491b-8345-46abc43f2c2e",
   "metadata": {},
   "outputs": [],
   "source": [
    "#Replaceing NaN values with an empty space\n",
    "df_40[['selftext']] = df_40[['selftext']].fillna(\"\")"
   ]
  },
  {
   "cell_type": "code",
   "execution_count": 12,
   "id": "087a1240-79eb-4a7e-99c7-eb99fee5d79f",
   "metadata": {},
   "outputs": [],
   "source": [
    "# replacing NaN values with empty space.\n",
    "df_30[['selftext']] = df_30[['selftext']].fillna(\"\")"
   ]
  },
  {
   "cell_type": "markdown",
   "id": "97f15514-0cf3-4da9-9243-702c4c0cf802",
   "metadata": {},
   "source": [
    "We will now create a new feature that encompasses both the \"Title\" column and the \"Selftext\" column, and name it total words, perhaps this will help our model train better with more words specific to either SubReddit."
   ]
  },
  {
   "cell_type": "code",
   "execution_count": 13,
   "id": "bd5e1897-a92d-4917-ad15-4ccdbfa3b802",
   "metadata": {},
   "outputs": [],
   "source": [
    "#Creating new row named 'total_words'\n",
    "df_40['total_words'] = df_40['title'] + df_40['selftext']\n",
    "df_30['total_words'] = df_30['title'] + df_30['selftext']"
   ]
  },
  {
   "cell_type": "code",
   "execution_count": 14,
   "id": "b62f87c8-a35b-44fa-b5e8-57554fb1f250",
   "metadata": {},
   "outputs": [],
   "source": [
    "# Word Counts of posts titles in both sub reddits\n",
    "df_30['title_word_count'] = [len(i.split()) for i in df_30['title']]\n",
    "df_40['title_word_count'] = [len(i.split()) for i in df_40['title']]"
   ]
  },
  {
   "cell_type": "code",
   "execution_count": 15,
   "id": "95589fcb-aa72-4920-b1c2-e41b18247057",
   "metadata": {},
   "outputs": [],
   "source": [
    "# Word Counts of posts selftext in both sub reddits\n",
    "df_30['selftext_word_count'] = [len(str(i).split()) for i in df_30['selftext']]\n",
    "df_40['selftext_word_count'] = [len(str(i).split()) for i in df_40['selftext']]"
   ]
  },
  {
   "cell_type": "code",
   "execution_count": 16,
   "id": "d3a70697-2aad-4940-8b7b-5fa2568a327b",
   "metadata": {},
   "outputs": [],
   "source": [
    "# Word Counts of posts selftext in both sub reddits\n",
    "df_30['total_words_count'] = [len(str(i).split()) for i in df_30['total_words']]\n",
    "df_40['total_words_count'] = [len(str(i).split()) for i in df_40['total_words']]"
   ]
  },
  {
   "cell_type": "code",
   "execution_count": 17,
   "id": "21c94894-d985-4dfb-a4b0-c0f40b4cff5d",
   "metadata": {
    "tags": []
   },
   "outputs": [
    {
     "data": {
      "image/png": "[encoded data removed]",
      "text/plain": [
       "<Figure size 720x432 with 2 Axes>"
      ]
     },
     "metadata": {
      "needs_background": "light"
     },
     "output_type": "display_data"
    }
   ],
   "source": [
    "# Histplots of title word lengths of both subreddits \n",
    "fig, ax = plt.subplots(\n",
    "    1,\n",
    "    2,\n",
    "    figsize=(10,6),\n",
    "    tight_layout=True,)\n",
    "\n",
    "sns.histplot(df_30,\n",
    "            x=\"title_word_count\",\n",
    "            bins= 30,\n",
    "            ax = ax[0],\n",
    "            binrange=[0, 60]\n",
    "            )\n",
    "\n",
    "sns.histplot(df_40,\n",
    "            x=\"title_word_count\",\n",
    "            bins=30,\n",
    "            ax = ax[1],\n",
    "            binrange=[0, 60]\n",
    "            );\n",
    "\n",
    "ax[0].set_xlabel('Title Lengths', fontsize=12)\n",
    "ax[1].set_xlabel('Title Lengths', fontsize=12)\n",
    "\n",
    "ax[0].set_ylabel('Count', fontsize=12)\n",
    "ax[1].set_ylabel('Count', fontsize=12)\n",
    "\n",
    "ax[0].set_title('Dating Over 30', fontsize=16)\n",
    "ax[1].set_title('Dating Over 40', fontsize=16)\n",
    "fig.suptitle('Word Counts of SubReddit Titles', fontsize=20);"
   ]
  },
  {
   "cell_type": "code",
   "execution_count": 18,
   "id": "a179da96-9cea-47f2-8140-63ce6ffb15f7",
   "metadata": {
    "jupyter": {
     "source_hidden": true
    },
    "tags": []
   },
   "outputs": [
    {
     "data": {
      "image/png": "[encoded data removed]",
      "text/plain": [
       "<Figure size 720x432 with 2 Axes>"
      ]
     },
     "metadata": {
      "needs_background": "light"
     },
     "output_type": "display_data"
    }
   ],
   "source": [
    "# Histplots of 'total_words' catagory word lengths of both subreddits \n",
    "fig, ax = plt.subplots(\n",
    "    1,\n",
    "    2,\n",
    "    figsize=(10,6),\n",
    "    tight_layout=True,)\n",
    "\n",
    "sns.histplot(df_30,\n",
    "            x=\"total_words_count\",\n",
    "            bins= 30,\n",
    "            ax = ax[0],\n",
    "            binrange=[0, 1000]\n",
    "            )\n",
    "\n",
    "sns.histplot(df_40,\n",
    "            x=\"total_words_count\",\n",
    "            bins=30,\n",
    "            ax = ax[1],\n",
    "            binrange= [0, 1000]\n",
    "            );\n",
    "\n",
    "ax[0].set_xlabel('Total Post Length', fontsize=14)\n",
    "ax[1].set_xlabel('Total Post Length', fontsize=14)\n",
    "\n",
    "ax[0].set_ylabel('Count', fontsize=14)\n",
    "ax[1].set_ylabel('Count', fontsize=14)\n",
    "\n",
    "ax[0].set_title('Dating Over 30', fontsize=16)\n",
    "ax[1].set_title('Dating Over 40', fontsize=16)\n",
    "fig.suptitle('Total Word Counts of Posts in Each Subreddit', fontsize=20);"
   ]
  },
  {
   "cell_type": "code",
   "execution_count": 19,
   "id": "7717dbc0-803d-4bd5-89eb-7bd640423fc9",
   "metadata": {},
   "outputs": [
    {
     "data": {
      "text/html": [
       "<div>\n",
       "<style scoped>\n",
       "    .dataframe tbody tr th:only-of-type {\n",
       "        vertical-align: middle;\n",
       "    }\n",
       "\n",
       "    .dataframe tbody tr th {\n",
       "        vertical-align: top;\n",
       "    }\n",
       "\n",
       "    .dataframe thead th {\n",
       "        text-align: right;\n",
       "    }\n",
       "</style>\n",
       "<table border=\"1\" class=\"dataframe\">\n",
       "  <thead>\n",
       "    <tr style=\"text-align: right;\">\n",
       "      <th></th>\n",
       "      <th>title_word_count</th>\n",
       "      <th>total_words_count</th>\n",
       "    </tr>\n",
       "  </thead>\n",
       "  <tbody>\n",
       "    <tr>\n",
       "      <th>count</th>\n",
       "      <td>7869.000000</td>\n",
       "      <td>7869.000000</td>\n",
       "    </tr>\n",
       "    <tr>\n",
       "      <th>mean</th>\n",
       "      <td>10.048418</td>\n",
       "      <td>230.499047</td>\n",
       "    </tr>\n",
       "    <tr>\n",
       "      <th>std</th>\n",
       "      <td>7.127645</td>\n",
       "      <td>207.974708</td>\n",
       "    </tr>\n",
       "    <tr>\n",
       "      <th>min</th>\n",
       "      <td>1.000000</td>\n",
       "      <td>1.000000</td>\n",
       "    </tr>\n",
       "    <tr>\n",
       "      <th>25%</th>\n",
       "      <td>5.000000</td>\n",
       "      <td>96.000000</td>\n",
       "    </tr>\n",
       "    <tr>\n",
       "      <th>50%</th>\n",
       "      <td>8.000000</td>\n",
       "      <td>174.000000</td>\n",
       "    </tr>\n",
       "    <tr>\n",
       "      <th>75%</th>\n",
       "      <td>13.000000</td>\n",
       "      <td>299.000000</td>\n",
       "    </tr>\n",
       "    <tr>\n",
       "      <th>max</th>\n",
       "      <td>63.000000</td>\n",
       "      <td>2799.000000</td>\n",
       "    </tr>\n",
       "  </tbody>\n",
       "</table>\n",
       "</div>"
      ],
      "text/plain": [
       "       title_word_count  total_words_count\n",
       "count       7869.000000        7869.000000\n",
       "mean          10.048418         230.499047\n",
       "std            7.127645         207.974708\n",
       "min            1.000000           1.000000\n",
       "25%            5.000000          96.000000\n",
       "50%            8.000000         174.000000\n",
       "75%           13.000000         299.000000\n",
       "max           63.000000        2799.000000"
      ]
     },
     "execution_count": 19,
     "metadata": {},
     "output_type": "execute_result"
    }
   ],
   "source": [
    "# Satistical Data of Dating over 30.\n",
    "df_30[['title_word_count','total_words_count']].describe()"
   ]
  },
  {
   "cell_type": "code",
   "execution_count": 20,
   "id": "415b7943-4e09-498f-881c-ddedc46e29d5",
   "metadata": {},
   "outputs": [
    {
     "data": {
      "text/plain": [
       "0    6\n",
       "dtype: int64"
      ]
     },
     "execution_count": 20,
     "metadata": {},
     "output_type": "execute_result"
    }
   ],
   "source": [
    "# including the mode of title word counts.\n",
    "df_30['title_word_count'].mode()"
   ]
  },
  {
   "cell_type": "code",
   "execution_count": 21,
   "id": "5d9eb983-3778-414d-b90e-5945ef04aae6",
   "metadata": {},
   "outputs": [
    {
     "data": {
      "text/plain": [
       "0    44\n",
       "dtype: int64"
      ]
     },
     "execution_count": 21,
     "metadata": {},
     "output_type": "execute_result"
    }
   ],
   "source": [
    "# include the mode of the total word counts.\n",
    "df_30['total_words_count'].mode()"
   ]
  },
  {
   "cell_type": "code",
   "execution_count": 22,
   "id": "840fefda-f291-4ce1-bf0a-7e04825a9ea0",
   "metadata": {},
   "outputs": [
    {
     "data": {
      "text/html": [
       "<div>\n",
       "<style scoped>\n",
       "    .dataframe tbody tr th:only-of-type {\n",
       "        vertical-align: middle;\n",
       "    }\n",
       "\n",
       "    .dataframe tbody tr th {\n",
       "        vertical-align: top;\n",
       "    }\n",
       "\n",
       "    .dataframe thead th {\n",
       "        text-align: right;\n",
       "    }\n",
       "</style>\n",
       "<table border=\"1\" class=\"dataframe\">\n",
       "  <thead>\n",
       "    <tr style=\"text-align: right;\">\n",
       "      <th></th>\n",
       "      <th>title_word_count</th>\n",
       "      <th>total_words_count</th>\n",
       "    </tr>\n",
       "  </thead>\n",
       "  <tbody>\n",
       "    <tr>\n",
       "      <th>count</th>\n",
       "      <td>6195.000000</td>\n",
       "      <td>6195.000000</td>\n",
       "    </tr>\n",
       "    <tr>\n",
       "      <th>mean</th>\n",
       "      <td>8.590960</td>\n",
       "      <td>163.637450</td>\n",
       "    </tr>\n",
       "    <tr>\n",
       "      <th>std</th>\n",
       "      <td>7.229991</td>\n",
       "      <td>180.873856</td>\n",
       "    </tr>\n",
       "    <tr>\n",
       "      <th>min</th>\n",
       "      <td>1.000000</td>\n",
       "      <td>1.000000</td>\n",
       "    </tr>\n",
       "    <tr>\n",
       "      <th>25%</th>\n",
       "      <td>4.000000</td>\n",
       "      <td>44.000000</td>\n",
       "    </tr>\n",
       "    <tr>\n",
       "      <th>50%</th>\n",
       "      <td>7.000000</td>\n",
       "      <td>112.000000</td>\n",
       "    </tr>\n",
       "    <tr>\n",
       "      <th>75%</th>\n",
       "      <td>11.000000</td>\n",
       "      <td>218.000000</td>\n",
       "    </tr>\n",
       "    <tr>\n",
       "      <th>max</th>\n",
       "      <td>65.000000</td>\n",
       "      <td>2013.000000</td>\n",
       "    </tr>\n",
       "  </tbody>\n",
       "</table>\n",
       "</div>"
      ],
      "text/plain": [
       "       title_word_count  total_words_count\n",
       "count       6195.000000        6195.000000\n",
       "mean           8.590960         163.637450\n",
       "std            7.229991         180.873856\n",
       "min            1.000000           1.000000\n",
       "25%            4.000000          44.000000\n",
       "50%            7.000000         112.000000\n",
       "75%           11.000000         218.000000\n",
       "max           65.000000        2013.000000"
      ]
     },
     "execution_count": 22,
     "metadata": {},
     "output_type": "execute_result"
    }
   ],
   "source": [
    "# Analysis of the distribution of dating over 40 total word counts.\n",
    "df_40[['title_word_count', 'total_words_count']].describe()"
   ]
  },
  {
   "cell_type": "code",
   "execution_count": 23,
   "id": "316719e6-d5a9-466d-9281-533a40cd79f1",
   "metadata": {},
   "outputs": [
    {
     "data": {
      "text/plain": [
       "0    5\n",
       "dtype: int64"
      ]
     },
     "execution_count": 23,
     "metadata": {},
     "output_type": "execute_result"
    }
   ],
   "source": [
    "# Including the mode of dating over 40 total word count.\n",
    "df_40['total_words_count'].mode()"
   ]
  },
  {
   "cell_type": "code",
   "execution_count": 24,
   "id": "a1fe7a12-ab7b-40d0-a795-1f7223400247",
   "metadata": {},
   "outputs": [
    {
     "data": {
      "text/plain": [
       "0    5\n",
       "dtype: int64"
      ]
     },
     "execution_count": 24,
     "metadata": {},
     "output_type": "execute_result"
    }
   ],
   "source": [
    "# including the mode of dating over 40 title word count.\n",
    "df_40['title_word_count'].mode()"
   ]
  },
  {
   "cell_type": "markdown",
   "id": "4ffe1fd9-e14d-4cdc-823d-b3385836653c",
   "metadata": {},
   "source": [
    "## Model the data\n",
    "---"
   ]
  },
  {
   "cell_type": "markdown",
   "id": "082bcb86-6270-44c9-841d-2793f5c5782d",
   "metadata": {},
   "source": [
    "Lets look at the contraction words like don't and i've the count vecotorizer splits on all punctuations. We wrote a script that pulls apostrophies so we can get a better idea of the top words in our corpus."
   ]
  },
  {
   "cell_type": "code",
   "execution_count": 25,
   "id": "88206dac-476c-400d-82a6-14c646a00343",
   "metadata": {},
   "outputs": [],
   "source": [
    "# Removing all the commas in contraction words in total_words.\n",
    "df_30['total_words'] = df_30['total_words'].map(lambda x: x.replace(\"’\",\"\"))\n",
    "df_40['total_words'] = df_40['total_words'].map(lambda x: x.replace(\"’\",\"\"))\n",
    "\n",
    "# Removing all the commas in contraction words in selftext.\n",
    "df_30['selftext'] = df_30['selftext'].map(lambda x: x.replace(\"’\",\"\"))\n",
    "df_40['selftext'] = df_40['selftext'].map(lambda x: x.replace(\"’\",\"\"))\n",
    "\n",
    "# Removing all the commas in contraction words in title\n",
    "df_30['title'] = df_30['title'].map(lambda x: x.replace(\"’\",\"\"))\n",
    "df_40['title'] = df_40['title'].map(lambda x: x.replace(\"’\",\"\"))"
   ]
  },
  {
   "cell_type": "code",
   "execution_count": 26,
   "id": "078e1882-eb7b-45c9-8352-7e75242e48c1",
   "metadata": {
    "tags": []
   },
   "outputs": [
    {
     "data": {
      "image/png": "[encoded data removed]",
      "text/plain": [
       "<Figure size 1152x576 with 2 Axes>"
      ]
     },
     "metadata": {
      "needs_background": "light"
     },
     "output_type": "display_data"
    }
   ],
   "source": [
    "# vectorize title column in dating over 30 and dating over 40\n",
    "cv_df_30 = vectorize_column(df_30['title'])\n",
    "cv_df_40 = vectorize_column(df_40['title'])\n",
    "\n",
    "# Plot 15 most common words in each dataframe\n",
    "fig, ax = plt.subplots(\n",
    "    1,\n",
    "    2,\n",
    "    figsize=(16,8),\n",
    "    tight_layout=True,)\n",
    "\n",
    "cv_df_30.sum().sort_values(ascending=False).head(20).plot(kind='barh',\n",
    "                                                          ax=ax[0],\n",
    "                                                          fontsize=20)\n",
    "cv_df_40.sum().sort_values(ascending=False).head(20).plot(kind='barh',\n",
    "                                                          ax=ax[1],\n",
    "                                                          fontsize=20)\n",
    "ax[0].set_xlabel(\"Count\", fontsize=20)\n",
    "ax[1].set_xlabel(\"Count\", fontsize=20)                                                        \n",
    "\n",
    "ax[0].set_title(\"Title Top 20 Words Dating Over 30\", fontsize=20)\n",
    "ax[1].set_title(\"Title Top 20 Words Dating Over 40\", fontsize=20);"
   ]
  },
  {
   "cell_type": "code",
   "execution_count": 27,
   "id": "3feb8505-ac9d-4225-abf2-d678c976e21e",
   "metadata": {
    "tags": []
   },
   "outputs": [
    {
     "data": {
      "image/png": "[encoded data removed]",
      "text/plain": [
       "<Figure size 1152x576 with 2 Axes>"
      ]
     },
     "metadata": {
      "needs_background": "light"
     },
     "output_type": "display_data"
    }
   ],
   "source": [
    "# Vectorize the selftext feature in dating over 30 and dating over 40\n",
    "cv_df_30_tt = vectorize_column(df_30['total_words'])\n",
    "cv_df_40_tt = vectorize_column(df_40['total_words'])\n",
    "\n",
    "fig, ax = plt.subplots(\n",
    "    1,\n",
    "    2,\n",
    "    figsize=(16,8),\n",
    "    tight_layout=True,)\n",
    "\n",
    "# Plotting 2 bar charts side by side to show the difference in word choice \n",
    "cv_df_30_tt.sum().sort_values(ascending=False).head(15).plot(kind='barh',\n",
    "                                                             ax=ax[0],\n",
    "                                                             fontsize=20)\n",
    "cv_df_40_tt.sum().sort_values(ascending=False).head(15).plot(kind='barh',\n",
    "                                                             ax=ax[1],\n",
    "                                                             fontsize=20)\n",
    "\n",
    "ax[0].set_xlabel(\"Count\", fontsize=20)\n",
    "ax[1].set_xlabel(\"Count\", fontsize=20)                                                        \n",
    "\n",
    "ax[0].set_title(\"Total Words Top 20 Words Dating Over 30\", fontsize=20)\n",
    "ax[1].set_title(\"Total Words Top 20 Words Dating Over 40\", fontsize=20);"
   ]
  },
  {
   "cell_type": "code",
   "execution_count": 28,
   "id": "48475e3b-394a-42c1-860a-a412a17a4b96",
   "metadata": {},
   "outputs": [
    {
     "name": "stdout",
     "output_type": "stream",
     "text": [
      "length of each DataFrame: 6100\n",
      "length complete DataFrame: 12200\n",
      "'1', represents datingover30, '0', represents datingover40\n"
     ]
    }
   ],
   "source": [
    "#decalring size and dataframes to be used in our classification model\n",
    "size = 6100\n",
    "df_1 = df_30\n",
    "df_2 = df_40\n",
    "\n",
    "# Creating a dataframe for our two classification dataframes\n",
    "df = dummify_concat_dataframe(size,df_1, df_2)"
   ]
  },
  {
   "cell_type": "markdown",
   "id": "99bd526b-c57b-4c74-870e-5126ad57db5c",
   "metadata": {},
   "source": [
    "### Preprocessing & Modeling\n",
    "---"
   ]
  },
  {
   "cell_type": "code",
   "execution_count": 29,
   "id": "cf6347e2-d97b-44dc-ad20-0aba57d0ed7c",
   "metadata": {},
   "outputs": [
    {
     "data": {
      "text/plain": [
       "0    0.5\n",
       "1    0.5\n",
       "Name: subreddit, dtype: float64"
      ]
     },
     "execution_count": 29,
     "metadata": {},
     "output_type": "execute_result"
    }
   ],
   "source": [
    "# define our null model of 55%/45% the data is split in even splits\n",
    "df['subreddit'].value_counts(normalize=True)"
   ]
  },
  {
   "cell_type": "markdown",
   "id": "0bb2b805-6f24-446e-ae08-862f23d44618",
   "metadata": {},
   "source": [
    "Below we start modeling, we will define our Null Model. From the data 50% is dating over 30 and 50% is dating over 40. Our model should perform above the accuracy of 50% given that mean of positive and negative variables is 50%."
   ]
  },
  {
   "cell_type": "markdown",
   "id": "8c05d59f-3f32-4029-b2e6-d6c03b21b541",
   "metadata": {},
   "source": [
    "### Mulitnomianl Naive Baise model with Count Vectorizer"
   ]
  },
  {
   "cell_type": "markdown",
   "id": "65d28edf-6f15-49b8-b75b-ee0eca0917a0",
   "metadata": {},
   "source": [
    "Model #1: We start with a Mulitnomianl Naive Baise model with the Count Vectorizer. Multinomial Naive Baise is commonly used to predict variables that are positive intergers and we need the Count Vectorizer to trainsform our data to matrix form."
   ]
  },
  {
   "cell_type": "code",
   "execution_count": 30,
   "id": "c36b649f-c13b-4d0c-ba4c-e81b09614cc9",
   "metadata": {},
   "outputs": [],
   "source": [
    "X = df['total_words']\n",
    "y = df['subreddit']\n",
    "X_train, X_test, y_train, y_test = train_test_split(X, y, test_size = 0.33,stratify = y, random_state=42)\n",
    "\n",
    "# Pipeline for multinomial count vectorizer with Naive Baise \n",
    "pipe = Pipeline([\n",
    "    ('cvec', CountVectorizer(stop_words='english',\n",
    "                             max_df=0.1,\n",
    "                             min_df=1,\n",
    "                             ngram_range=(1,2),\n",
    "                             max_features=10000,\n",
    "                            )),\n",
    "    ('nb', MultinomialNB(alpha=1,\n",
    "                         fit_prior=False,))\n",
    "])\n",
    "\n",
    "pipe.fit(X_train, y_train);"
   ]
  },
  {
   "cell_type": "code",
   "execution_count": 31,
   "id": "77acbaf1-7c13-4d45-9bc7-ba325cd64227",
   "metadata": {},
   "outputs": [
    {
     "name": "stdout",
     "output_type": "stream",
     "text": [
      "Model Training score:  0.8297039393197945\n",
      "Model Testing Score:  0.7198211624441133\n"
     ]
    }
   ],
   "source": [
    "print('Model Training score: ', pipe.score(X_train, y_train))\n",
    "print('Model Testing Score: ', pipe.score(X_test, y_test))"
   ]
  },
  {
   "cell_type": "markdown",
   "id": "4dc7ea6c-c7e5-4ab9-8bd9-17267d3f23b0",
   "metadata": {},
   "source": [
    "Comment: This is the final form of several interations. We added stop words to the count vectorizer, and ran a Gridseach with our Reddit titles, subtext, and a combination of reddit titles and subtext, each independantly. We found that the best results occoured when we ran the gridseach on the reddit total_text feature. We also found that this model prefered higher max features, 11k I interpret this to mean that model has to dig deeper to find a difference in words. This model also prefers a ngram range of 2 n-grams pairing the words into a group of 2. After several iterations we found that for most of our iterations ~70% accuracy was the best we could do with the data. So from here we started to try different models to see if another model could I perform better on the data given. "
   ]
  },
  {
   "cell_type": "markdown",
   "id": "8fd1358d-d563-48b5-87a0-d61220b9f015",
   "metadata": {},
   "source": [
    "### Multinomial Naïve Bayes model with TF-IDF Vectorizer"
   ]
  },
  {
   "cell_type": "markdown",
   "id": "43c02217-c0f6-4ea8-a57b-75beef914a92",
   "metadata": {},
   "source": [
    "Model #2: For our second model we changed the vectorizer from Count Vectorizer to TF-IDF vectorizer. Perhapes with a vectorizer that separates words based on importance we can inprove on our previous model."
   ]
  },
  {
   "cell_type": "code",
   "execution_count": 32,
   "id": "0a96439e-e775-446f-b9a3-008a8194fdcf",
   "metadata": {},
   "outputs": [],
   "source": [
    "# Train test split on 'total_words' feature.\n",
    "X = df['total_words']\n",
    "y = df['subreddit']\n",
    "X_train, X_test, y_train, y_test = train_test_split(X, y, test_size = 0.33,stratify = y, random_state=42)\n",
    "\n",
    "\n",
    "# Create a pipeline with Multinomial Naïve Bayes, and TF-IDF Vectorizer\n",
    "pipe_tvec = Pipeline([\n",
    "    ('tvec', TfidfVectorizer(stop_words='english',\n",
    "                            binary= True,\n",
    "                            lowercase=True,\n",
    "                            max_features=5000,\n",
    "                            ngram_range=(1,3),\n",
    "                            )),\n",
    "    ('nb', MultinomialNB())    \n",
    "])\n",
    "\n",
    "# Fit to the pipeline.\n",
    "pipe_tvec.fit(X_train, y_train);"
   ]
  },
  {
   "cell_type": "code",
   "execution_count": 33,
   "id": "c880d115-c148-4a2a-ba95-c9bcd2d93f56",
   "metadata": {},
   "outputs": [
    {
     "name": "stdout",
     "output_type": "stream",
     "text": [
      "Model Training score:  0.8065818448739906\n",
      "Model Testing Score:  0.7143566815697964\n"
     ]
    }
   ],
   "source": [
    "print('Model Training score: ', pipe_tvec.score(X_train, y_train))\n",
    "print('Model Testing Score: ', pipe_tvec.score(X_test, y_test))"
   ]
  },
  {
   "cell_type": "markdown",
   "id": "9d4307da-811c-41c5-a9cb-17aef1ae8399",
   "metadata": {},
   "source": [
    "Comment: On the previous model we can see that the variance between the training and testing groups has decreased a little. This again is the final tuning of several iterations using the TF-IDF Vectorizer. However, we can see after all of our fine-tuning that the max accuracy of our model seems to stall at 71%. Originally our TF-IDF Vectorizer worked better than the Count Vectorizer since the TF-IDF searches for capital letters. Next, we will move to the Random Forest Model."
   ]
  },
  {
   "cell_type": "markdown",
   "id": "f680fe5f-b102-4c42-9502-e9c41f66ee7b",
   "metadata": {},
   "source": [
    "### Random Forest Classifer"
   ]
  },
  {
   "cell_type": "markdown",
   "id": "2f811fb0-2cbc-49f5-9dee-497a928b17cc",
   "metadata": {},
   "source": [
    "Let's now move onto Random Forest classifier lets see if ensemble methods will give us a better accuracy, and shine some light onto what are the key features that distinguishes one subreddit from another. "
   ]
  },
  {
   "cell_type": "code",
   "execution_count": 34,
   "id": "36861cad-de09-45f7-a5d2-73c7f7c41f16",
   "metadata": {},
   "outputs": [
    {
     "data": {
      "text/plain": [
       "Pipeline(steps=[('cvec',\n",
       "                 CountVectorizer(max_df=0.1, max_features=10000,\n",
       "                                 stop_words='english')),\n",
       "                ('tfidf', TfidfTransformer()),\n",
       "                ('rf',\n",
       "                 RandomForestClassifier(max_features='sqrt',\n",
       "                                        n_estimators=200))])"
      ]
     },
     "execution_count": 34,
     "metadata": {},
     "output_type": "execute_result"
    }
   ],
   "source": [
    "# Train Test Split on 'total_words' feature.\n",
    "X = df['total_words']\n",
    "y = df['subreddit']\n",
    "X_train, X_test, y_train, y_test = train_test_split(X,\n",
    "                                                    y,\n",
    "                                                    test_size = 0.33,\n",
    "                                                    stratify = y,\n",
    "                                                    random_state=42)\n",
    "\n",
    "# Create a pipeline of count vectorizer, TF-IDF transformer, and Random Forest Classifer. \n",
    "pipe_clf = Pipeline([\n",
    "    ('cvec', CountVectorizer(stop_words='english',\n",
    "                             max_df=0.1,\n",
    "                             max_features=10000,\n",
    "                             min_df=1,\n",
    "                             ngram_range=(1,1),\n",
    "                             )),\n",
    "    ('tfidf', TfidfTransformer()),\n",
    "    ('rf', RandomForestClassifier(max_depth=None,\n",
    "                                  max_features='sqrt',\n",
    "                                  n_estimators= 200))\n",
    "])\n",
    " \n",
    "# Fit Model/Pipeline     \n",
    "pipe_clf.fit(X_train, y_train)"
   ]
  },
  {
   "cell_type": "code",
   "execution_count": 35,
   "id": "219445b0-74a4-40f9-87cd-b1f83a64d2e5",
   "metadata": {},
   "outputs": [
    {
     "name": "stdout",
     "output_type": "stream",
     "text": [
      "Model Training score:  0.9998776608759481\n",
      "Model Testing Score:  0.7183308494783904\n"
     ]
    }
   ],
   "source": [
    "# Print the results of the Training and testing data.\n",
    "print('Model Training score: ', pipe_clf.score(X_train, y_train))\n",
    "print('Model Testing Score: ', pipe_clf.score(X_test, y_test))"
   ]
  },
  {
   "cell_type": "code",
   "execution_count": 36,
   "id": "039420ec-b769-4209-8ab1-d89a0bc7b221",
   "metadata": {},
   "outputs": [
    {
     "data": {
      "text/html": [
       "<div>\n",
       "<style scoped>\n",
       "    .dataframe tbody tr th:only-of-type {\n",
       "        vertical-align: middle;\n",
       "    }\n",
       "\n",
       "    .dataframe tbody tr th {\n",
       "        vertical-align: top;\n",
       "    }\n",
       "\n",
       "    .dataframe thead th {\n",
       "        text-align: right;\n",
       "    }\n",
       "</style>\n",
       "<table border=\"1\" class=\"dataframe\">\n",
       "  <thead>\n",
       "    <tr style=\"text-align: right;\">\n",
       "      <th></th>\n",
       "      <th>importance</th>\n",
       "    </tr>\n",
       "  </thead>\n",
       "  <tbody>\n",
       "    <tr>\n",
       "      <th>hello</th>\n",
       "      <td>0.006496</td>\n",
       "    </tr>\n",
       "    <tr>\n",
       "      <th>quite</th>\n",
       "      <td>0.006301</td>\n",
       "    </tr>\n",
       "    <tr>\n",
       "      <th>admiration</th>\n",
       "      <td>0.004738</td>\n",
       "    </tr>\n",
       "    <tr>\n",
       "      <th>screw</th>\n",
       "      <td>0.004577</td>\n",
       "    </tr>\n",
       "    <tr>\n",
       "      <th>subway</th>\n",
       "      <td>0.004173</td>\n",
       "    </tr>\n",
       "    <tr>\n",
       "      <th>36f</th>\n",
       "      <td>0.003246</td>\n",
       "    </tr>\n",
       "    <tr>\n",
       "      <th>overall</th>\n",
       "      <td>0.003050</td>\n",
       "    </tr>\n",
       "    <tr>\n",
       "      <th>recently</th>\n",
       "      <td>0.003038</td>\n",
       "    </tr>\n",
       "    <tr>\n",
       "      <th>youre</th>\n",
       "      <td>0.002912</td>\n",
       "    </tr>\n",
       "    <tr>\n",
       "      <th>bills</th>\n",
       "      <td>0.002799</td>\n",
       "    </tr>\n",
       "  </tbody>\n",
       "</table>\n",
       "</div>"
      ],
      "text/plain": [
       "            importance\n",
       "hello         0.006496\n",
       "quite         0.006301\n",
       "admiration    0.004738\n",
       "screw         0.004577\n",
       "subway        0.004173\n",
       "36f           0.003246\n",
       "overall       0.003050\n",
       "recently      0.003038\n",
       "youre         0.002912\n",
       "bills         0.002799"
      ]
     },
     "execution_count": 36,
     "metadata": {},
     "output_type": "execute_result"
    }
   ],
   "source": [
    "# This will show us the feature importances of what vocabulary the decision trees split on.\n",
    "importance = pd.Series(pipe_clf.named_steps['rf'].feature_importances_,pipe_clf.named_steps['cvec'].vocabulary_).sort_values(ascending=False).to_frame(name='importance')\n",
    "importance.head(10)"
   ]
  },
  {
   "cell_type": "markdown",
   "id": "311f66fa-aa79-443d-8387-89d7a8f41127",
   "metadata": {},
   "source": [
    "Comments: Above we can see the results after several itterations of the RandomForest Classifer. We can see that our accuracy is almost the same as our multinomial Naive Baise model. Also note that the Gridsearch found that the max depth is \"None\" meaning that it could not find any signifigant feature to split on. We can see a list of feature importances their values are so low that their values can't be taken at value. Next we will move onto the Support Vector Machine Classifer, reading on Sklearn and the research paper, 'Workshop on Computational Personality Recognition: Shared Task'- Luca Rossi and Daniel Gatica-Perez Organizers. I read that SVM's are the best models to classify texual data."
   ]
  },
  {
   "cell_type": "markdown",
   "id": "74299854-c04f-422a-b3b3-996eb5738a67",
   "metadata": {},
   "source": [
    "### Support Vector Machine Classifer"
   ]
  },
  {
   "cell_type": "markdown",
   "id": "34278f70-5ee1-4dab-a108-39f3960103f1",
   "metadata": {},
   "source": [
    "We will now model the data on a SVM classifer."
   ]
  },
  {
   "cell_type": "code",
   "execution_count": 46,
   "id": "082cc700-ce3a-490e-820c-2c59168d718d",
   "metadata": {
    "tags": []
   },
   "outputs": [
    {
     "data": {
      "text/plain": [
       "Pipeline(steps=[('cvec', CountVectorizer(stop_words='english')),\n",
       "                ('tfidf', TfidfTransformer()), ('svc', SVC())])"
      ]
     },
     "execution_count": 46,
     "metadata": {},
     "output_type": "execute_result"
    }
   ],
   "source": [
    "# Train Test Split on 'total_words' feature.\n",
    "X = df['total_words']\n",
    "y = df['subreddit']\n",
    "X_train, X_test, y_train, y_test = train_test_split(X,\n",
    "                                                    y,\n",
    "                                                    test_size = 0.33,\n",
    "                                                    stratify = y,\n",
    "                                                    random_state=42)\n",
    "\n",
    "# Create a pipeline to vectorize/transfrom and model the Corpus.\n",
    "pipe_clf = Pipeline([\n",
    "    ('cvec', CountVectorizer(stop_words='english')),\n",
    "    ('tfidf', TfidfTransformer()),\n",
    "    ('svc', SVC())\n",
    "])\n",
    "\n",
    "# Fit the Trainning data on the pipeline.\n",
    "pipe_clf.fit(X_train, y_train)"
   ]
  },
  {
   "cell_type": "code",
   "execution_count": 38,
   "id": "28e83b2a-68f0-48a7-9b23-6eb9a75e13d6",
   "metadata": {},
   "outputs": [
    {
     "name": "stdout",
     "output_type": "stream",
     "text": [
      "Model Training score:  0.9826278443846342\n",
      "Model Testing Score:  0.7309985096870343\n"
     ]
    }
   ],
   "source": [
    "print('Model Training score: ', pipe_clf.score(X_train, y_train))\n",
    "print('Model Testing Score: ', pipe_clf.score(X_test, y_test))"
   ]
  },
  {
   "cell_type": "markdown",
   "id": "211d4c5e-02d9-4733-ac72-a391fd6ced1f",
   "metadata": {},
   "source": [
    "This was our best Result on the training data an accuracy of 73% lets now look into why our models are having a tough time classifying data to either subreddit. We will look into our confusion matrix and see where the models are having trouble. "
   ]
  },
  {
   "cell_type": "code",
   "execution_count": 39,
   "id": "df103e63-8fe1-46b3-94fa-fd2d2f3c7c1e",
   "metadata": {},
   "outputs": [
    {
     "data": {
      "image/png": "[encoded data removed]",
      "text/plain": [
       "<Figure size 432x288 with 2 Axes>"
      ]
     },
     "metadata": {
      "needs_background": "light"
     },
     "output_type": "display_data"
    }
   ],
   "source": [
    "# Getting predictions \n",
    "preds = pipe_clf.predict(X_test)\n",
    "\n",
    "# Save confusion matrix values\n",
    "tn, fp, fn, tp = confusion_matrix(y_test, preds).ravel()\n",
    "\n",
    "# View confusion matrix\n",
    "plot_confusion_matrix(pipe_clf, X_test, y_test, cmap='Blues');"
   ]
  },
  {
   "cell_type": "code",
   "execution_count": 40,
   "id": "d3ef5b0b-3ba5-44c9-8790-b2759aff6515",
   "metadata": {},
   "outputs": [
    {
     "name": "stdout",
     "output_type": "stream",
     "text": [
      "specificity: 0.7526080476900149\n",
      "precision: 0.7414330218068536\n"
     ]
    }
   ],
   "source": [
    "# Calculate the specificity and precision\n",
    "spec = tn / (tn + fp)\n",
    "prec = tp / (tp + fp)\n",
    "\n",
    "print('specificity:', spec)\n",
    "print('precision:', prec)"
   ]
  },
  {
   "cell_type": "markdown",
   "id": "f280c54f-acd3-43a7-abab-32c5edfe3061",
   "metadata": {},
   "source": [
    "Our Specificity the true negative rate is lower than our precision the true positive rate. I interpret this to mean that the model found it slightly more difficult to classify the dating over 40 subreddit than the dating over 30 subreddit. Let's look at the false negative and false positive classifications and see why our model is having difficulty."
   ]
  },
  {
   "cell_type": "code",
   "execution_count": 41,
   "id": "b7dc390e-ede3-416f-ac3b-91b43addd5be",
   "metadata": {},
   "outputs": [],
   "source": [
    "# Create a dataframe of predicted values keeping the original y_test index\n",
    "results_df = pd.DataFrame(pipe_clf.predict(X_test), index=y_test.index, columns=['predictied'])\n",
    "\n",
    "# Add an actual values column.\n",
    "results_df['actual'] = y_test"
   ]
  },
  {
   "cell_type": "code",
   "execution_count": 42,
   "id": "e9a36863-5109-451b-87bf-54376ab29bb8",
   "metadata": {},
   "outputs": [],
   "source": [
    "#created an index of false positive results.\n",
    "fp_results = results_df[(results_df['actual'] == 1) & (results_df['predictied'] == 0)].index[1]\n",
    "\n",
    "# created an index false negative results.\n",
    "fn_results = results_df[(results_df['actual'] == 0) & (results_df['predictied'] == 1)].index[0]"
   ]
  },
  {
   "cell_type": "markdown",
   "id": "eb012075-9a4f-4f07-a185-2e83477810d5",
   "metadata": {},
   "source": [
    "You see below examples of true negative, true positive, false positive, and false negative results. We can see below looking at the titles of the reddit posts that these two subreddits are inherantly simmilar. Our Machine learning algorythems could not train on the data since the posts are relativly simmilar."
   ]
  },
  {
   "cell_type": "code",
   "execution_count": 43,
   "id": "682f7628-a5d6-4e2e-8bbd-98d67c116f2e",
   "metadata": {},
   "outputs": [
    {
     "name": "stdout",
     "output_type": "stream",
     "text": [
      "Example of a false positive result: Ive been outta the dating game- new protocol\n",
      "Example of a false Negative result: Whats it like…\n"
     ]
    }
   ],
   "source": [
    "print('Example of a false positive result:', df.iloc[fp_results,1])\n",
    "print('Example of a false negative result:', df.iloc[fn_results,1])"
   ]
  },
  {
   "cell_type": "code",
   "execution_count": 44,
   "id": "32ad98d4-1882-4878-934c-4f4250862ddf",
   "metadata": {},
   "outputs": [],
   "source": [
    "#created an index of True positive results.\n",
    "tp_results = results_df[(results_df['actual'] == 1) & (results_df['predictied'] == 1)].index[22]\n",
    "\n",
    "# created an index True negative results.\n",
    "tn_results = results_df[(results_df['actual'] == 0) & (results_df['predictied'] == 0)].index[21]"
   ]
  },
  {
   "cell_type": "code",
   "execution_count": 45,
   "id": "bd1908ca-d4ed-4b05-920c-7c5031d81a96",
   "metadata": {},
   "outputs": [
    {
     "name": "stdout",
     "output_type": "stream",
     "text": [
      "Example of a True positive result: How to encourage your date to call more over texts?\n",
      "Example of a True Negative result: Ever wonder, \"What's wrong with me?\"\n"
     ]
    }
   ],
   "source": [
    "print('Example of a True positive result:', df.iloc[tp_results,1])\n",
    "print('Example of a True Negative result:', df.iloc[tn_results,1])"
   ]
  },
  {
   "cell_type": "markdown",
   "id": "9a58dc94-cda3-4acb-a33d-271e66a12897",
   "metadata": {},
   "source": [
    "### Conclusion and Recommendations\n",
    "---"
   ]
  },
  {
   "cell_type": "markdown",
   "id": "694b09aa-5ca8-436b-8f51-4239b0d2d03d",
   "metadata": {},
   "source": [
    "Let us return to our original problem statement. We need to classify each post to its original subreddit accurately to save money on fees from Reddit. Given the similarities of our subreddits, our models found it very difficult to train on the unique characteristics of posts from \"Dating over 30 and Dating over 40. This is quite understandable since the two age demographics are just 10 years apart and they are going through the same dating problems. I would also make note that the data in dating over 40 was missing about 12% of the 'subtext' column. further robbing us of useful data which might explain the difference in specificity. \n",
    "\n",
    "Before this project, I read through several articles and an AAAI technical report and found a few tips on NLP that I would like to look into in future work. The main takeaway is that the best designator for classification is sentiment analysis and lexicon. I would look into a better way to classify the lexicon of the two groups, what do 40-year-olds say that 30-40-year-olds don't. Perhaps the answer lies with emojis or sentiment analysis. Either way, even if we paid Reddit for the information of which subreddit the posts belong to, these posts wouldn't give us much insight into the dating habits of people above 30 and people above 40."
   ]
  }
 ],
 "metadata": {
  "kernelspec": {
   "display_name": "Python 3",
   "language": "python",
   "name": "python3"
  },
  "language_info": {
   "codemirror_mode": {
    "name": "ipython",
    "version": 3
   },
   "file_extension": ".py",
   "mimetype": "text/x-python",
   "name": "python",
   "nbconvert_exporter": "python",
   "pygments_lexer": "ipython3",
   "version": "3.8.8"
  }
 },
 "nbformat": 4,
 "nbformat_minor": 5
}
